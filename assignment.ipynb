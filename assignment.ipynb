{
  "cells": [
    {
      "cell_type": "markdown",
      "metadata": {
        "id": "view-in-github",
        "colab_type": "text"
      },
      "source": [
        "<a href=\"https://colab.research.google.com/github/D-art9/Linear-regression-mini-projects/blob/main/assignment.ipynb\" target=\"_parent\"><img src=\"https://colab.research.google.com/assets/colab-badge.svg\" alt=\"Open In Colab\"/></a>"
      ]
    },
    {
      "cell_type": "markdown",
      "metadata": {
        "id": "4s1OXHlgpg-e"
      },
      "source": [
        "Fraud Detection Case Study"
      ]
    },
    {
      "cell_type": "markdown",
      "metadata": {
        "id": "yfRXpZk9pnWB"
      },
      "source": [
        "The goal is to predict whether a financial transaction is fraudulent.  \n",
        "This helps reduce financial loss and improve trust for customers.\n"
      ]
    },
    {
      "cell_type": "code",
      "execution_count": null,
      "metadata": {
        "id": "aFee966vqFZi"
      },
      "outputs": [],
      "source": [
        "import numpy as np\n",
        "import pandas as pd\n",
        "import matplotlib.pyplot as plt\n",
        "import seaborn as sns\n",
        "import random\n",
        "import os\n"
      ]
    },
    {
      "cell_type": "code",
      "source": [
        "from google.colab import drive\n",
        "drive.mount('/content/drive')\n"
      ],
      "metadata": {
        "colab": {
          "base_uri": "https://localhost:8080/"
        },
        "id": "ohfgRZYi1xHI",
        "outputId": "072acc05-7cd7-425e-9fe9-9fdd993a828e"
      },
      "execution_count": null,
      "outputs": [
        {
          "output_type": "stream",
          "name": "stdout",
          "text": [
            "Mounted at /content/drive\n"
          ]
        }
      ]
    },
    {
      "cell_type": "code",
      "source": [
        "!ls \"/content/drive/MyDrive\"\n"
      ],
      "metadata": {
        "colab": {
          "base_uri": "https://localhost:8080/"
        },
        "id": "YkXGgXyY19Me",
        "outputId": "1b1eeb11-c056-45fc-dab5-476863f76c95"
      },
      "execution_count": null,
      "outputs": [
        {
          "output_type": "stream",
          "name": "stdout",
          "text": [
            "'Colab Notebooks'\t\t     Fraud_raw_sample.csv\n",
            "'Copy of Anureet kaur RESUME.gdoc'   resume-1752740732199.pdf\n",
            " Fraud.csv\t\t\t    'SDC Interviews 2025.gsheet'\n"
          ]
        }
      ]
    },
    {
      "cell_type": "code",
      "source": [
        "!ls \"/content/drive/MyDrive/Fraud.csv\"\n"
      ],
      "metadata": {
        "colab": {
          "base_uri": "https://localhost:8080/"
        },
        "id": "a_EQGG8v1_2H",
        "outputId": "e7d44ec8-8281-41ed-9e6e-29bdeb8ad7d7"
      },
      "execution_count": null,
      "outputs": [
        {
          "output_type": "stream",
          "name": "stdout",
          "text": [
            "/content/drive/MyDrive/Fraud.csv\n"
          ]
        }
      ]
    },
    {
      "cell_type": "code",
      "source": [
        "import pandas as pd\n",
        "\n",
        "# Replace with your folder name if you made one\n",
        "data_path = \"/content/drive/MyDrive/Fraud.csv\"\n",
        "\n",
        "df = pd.read_csv(data_path)  # load first 100k rows\n",
        "print(\"Shape:\", df.shape)\n"
      ],
      "metadata": {
        "colab": {
          "base_uri": "https://localhost:8080/"
        },
        "id": "eTz6pLAs2Fws",
        "outputId": "382c84bb-180c-4f9a-a9be-54a643177a92"
      },
      "execution_count": null,
      "outputs": [
        {
          "output_type": "stream",
          "name": "stdout",
          "text": [
            "Shape: (6362620, 11)\n"
          ]
        }
      ]
    },
    {
      "cell_type": "code",
      "source": [
        "df.info()"
      ],
      "metadata": {
        "colab": {
          "base_uri": "https://localhost:8080/"
        },
        "id": "CzKwctMy2_lU",
        "outputId": "2780076f-9ca2-4f43-d383-81daa33c41b6"
      },
      "execution_count": null,
      "outputs": [
        {
          "output_type": "stream",
          "name": "stdout",
          "text": [
            "<class 'pandas.core.frame.DataFrame'>\n",
            "RangeIndex: 6362620 entries, 0 to 6362619\n",
            "Data columns (total 11 columns):\n",
            " #   Column          Dtype  \n",
            "---  ------          -----  \n",
            " 0   step            int64  \n",
            " 1   type            object \n",
            " 2   amount          float64\n",
            " 3   nameOrig        object \n",
            " 4   oldbalanceOrg   float64\n",
            " 5   newbalanceOrig  float64\n",
            " 6   nameDest        object \n",
            " 7   oldbalanceDest  float64\n",
            " 8   newbalanceDest  float64\n",
            " 9   isFraud         int64  \n",
            " 10  isFlaggedFraud  int64  \n",
            "dtypes: float64(5), int64(3), object(3)\n",
            "memory usage: 534.0+ MB\n"
          ]
        }
      ]
    },
    {
      "cell_type": "code",
      "source": [
        "np.random.seed(42)\n"
      ],
      "metadata": {
        "id": "U6I4CZo24NBo"
      },
      "execution_count": null,
      "outputs": []
    },
    {
      "cell_type": "markdown",
      "source": [
        "type → Transaction type (fraud is common in TRANSFER & CASH-OUT).\n",
        "\n",
        "amount → Transaction value, large or unusual amounts may indicate fraud.\n",
        "\n",
        "oldbalanceOrg / newbalanceOrig → Sender’s balance before & after transaction (fraudsters often drain accounts).\n",
        "\n",
        "oldbalanceDest / newbalanceDest → Receiver’s balance before & after transaction (sudden jumps can be suspicious).\n",
        "\n",
        "isFraud → Target variable (1 = Fraud, 0 = Normal)"
      ],
      "metadata": {
        "id": "tgsvxp7y34i_"
      }
    },
    {
      "cell_type": "code",
      "source": [
        "df.head()\n"
      ],
      "metadata": {
        "colab": {
          "base_uri": "https://localhost:8080/",
          "height": 206
        },
        "id": "sINrM_QX4UBx",
        "outputId": "2ab1e9ac-f59e-4b00-a70e-19d785add872"
      },
      "execution_count": null,
      "outputs": [
        {
          "output_type": "execute_result",
          "data": {
            "text/plain": [
              "   step      type    amount     nameOrig  oldbalanceOrg  newbalanceOrig  \\\n",
              "0     1   PAYMENT   9839.64  C1231006815       170136.0       160296.36   \n",
              "1     1   PAYMENT   1864.28  C1666544295        21249.0        19384.72   \n",
              "2     1  TRANSFER    181.00  C1305486145          181.0            0.00   \n",
              "3     1  CASH_OUT    181.00   C840083671          181.0            0.00   \n",
              "4     1   PAYMENT  11668.14  C2048537720        41554.0        29885.86   \n",
              "\n",
              "      nameDest  oldbalanceDest  newbalanceDest  isFraud  isFlaggedFraud  \n",
              "0  M1979787155             0.0             0.0        0               0  \n",
              "1  M2044282225             0.0             0.0        0               0  \n",
              "2   C553264065             0.0             0.0        1               0  \n",
              "3    C38997010         21182.0             0.0        1               0  \n",
              "4  M1230701703             0.0             0.0        0               0  "
            ],
            "text/html": [
              "\n",
              "  <div id=\"df-c16c117b-cc1d-4dd0-93bd-c9ce0c70695d\" class=\"colab-df-container\">\n",
              "    <div>\n",
              "<style scoped>\n",
              "    .dataframe tbody tr th:only-of-type {\n",
              "        vertical-align: middle;\n",
              "    }\n",
              "\n",
              "    .dataframe tbody tr th {\n",
              "        vertical-align: top;\n",
              "    }\n",
              "\n",
              "    .dataframe thead th {\n",
              "        text-align: right;\n",
              "    }\n",
              "</style>\n",
              "<table border=\"1\" class=\"dataframe\">\n",
              "  <thead>\n",
              "    <tr style=\"text-align: right;\">\n",
              "      <th></th>\n",
              "      <th>step</th>\n",
              "      <th>type</th>\n",
              "      <th>amount</th>\n",
              "      <th>nameOrig</th>\n",
              "      <th>oldbalanceOrg</th>\n",
              "      <th>newbalanceOrig</th>\n",
              "      <th>nameDest</th>\n",
              "      <th>oldbalanceDest</th>\n",
              "      <th>newbalanceDest</th>\n",
              "      <th>isFraud</th>\n",
              "      <th>isFlaggedFraud</th>\n",
              "    </tr>\n",
              "  </thead>\n",
              "  <tbody>\n",
              "    <tr>\n",
              "      <th>0</th>\n",
              "      <td>1</td>\n",
              "      <td>PAYMENT</td>\n",
              "      <td>9839.64</td>\n",
              "      <td>C1231006815</td>\n",
              "      <td>170136.0</td>\n",
              "      <td>160296.36</td>\n",
              "      <td>M1979787155</td>\n",
              "      <td>0.0</td>\n",
              "      <td>0.0</td>\n",
              "      <td>0</td>\n",
              "      <td>0</td>\n",
              "    </tr>\n",
              "    <tr>\n",
              "      <th>1</th>\n",
              "      <td>1</td>\n",
              "      <td>PAYMENT</td>\n",
              "      <td>1864.28</td>\n",
              "      <td>C1666544295</td>\n",
              "      <td>21249.0</td>\n",
              "      <td>19384.72</td>\n",
              "      <td>M2044282225</td>\n",
              "      <td>0.0</td>\n",
              "      <td>0.0</td>\n",
              "      <td>0</td>\n",
              "      <td>0</td>\n",
              "    </tr>\n",
              "    <tr>\n",
              "      <th>2</th>\n",
              "      <td>1</td>\n",
              "      <td>TRANSFER</td>\n",
              "      <td>181.00</td>\n",
              "      <td>C1305486145</td>\n",
              "      <td>181.0</td>\n",
              "      <td>0.00</td>\n",
              "      <td>C553264065</td>\n",
              "      <td>0.0</td>\n",
              "      <td>0.0</td>\n",
              "      <td>1</td>\n",
              "      <td>0</td>\n",
              "    </tr>\n",
              "    <tr>\n",
              "      <th>3</th>\n",
              "      <td>1</td>\n",
              "      <td>CASH_OUT</td>\n",
              "      <td>181.00</td>\n",
              "      <td>C840083671</td>\n",
              "      <td>181.0</td>\n",
              "      <td>0.00</td>\n",
              "      <td>C38997010</td>\n",
              "      <td>21182.0</td>\n",
              "      <td>0.0</td>\n",
              "      <td>1</td>\n",
              "      <td>0</td>\n",
              "    </tr>\n",
              "    <tr>\n",
              "      <th>4</th>\n",
              "      <td>1</td>\n",
              "      <td>PAYMENT</td>\n",
              "      <td>11668.14</td>\n",
              "      <td>C2048537720</td>\n",
              "      <td>41554.0</td>\n",
              "      <td>29885.86</td>\n",
              "      <td>M1230701703</td>\n",
              "      <td>0.0</td>\n",
              "      <td>0.0</td>\n",
              "      <td>0</td>\n",
              "      <td>0</td>\n",
              "    </tr>\n",
              "  </tbody>\n",
              "</table>\n",
              "</div>\n",
              "    <div class=\"colab-df-buttons\">\n",
              "\n",
              "  <div class=\"colab-df-container\">\n",
              "    <button class=\"colab-df-convert\" onclick=\"convertToInteractive('df-c16c117b-cc1d-4dd0-93bd-c9ce0c70695d')\"\n",
              "            title=\"Convert this dataframe to an interactive table.\"\n",
              "            style=\"display:none;\">\n",
              "\n",
              "  <svg xmlns=\"http://www.w3.org/2000/svg\" height=\"24px\" viewBox=\"0 -960 960 960\">\n",
              "    <path d=\"M120-120v-720h720v720H120Zm60-500h600v-160H180v160Zm220 220h160v-160H400v160Zm0 220h160v-160H400v160ZM180-400h160v-160H180v160Zm440 0h160v-160H620v160ZM180-180h160v-160H180v160Zm440 0h160v-160H620v160Z\"/>\n",
              "  </svg>\n",
              "    </button>\n",
              "\n",
              "  <style>\n",
              "    .colab-df-container {\n",
              "      display:flex;\n",
              "      gap: 12px;\n",
              "    }\n",
              "\n",
              "    .colab-df-convert {\n",
              "      background-color: #E8F0FE;\n",
              "      border: none;\n",
              "      border-radius: 50%;\n",
              "      cursor: pointer;\n",
              "      display: none;\n",
              "      fill: #1967D2;\n",
              "      height: 32px;\n",
              "      padding: 0 0 0 0;\n",
              "      width: 32px;\n",
              "    }\n",
              "\n",
              "    .colab-df-convert:hover {\n",
              "      background-color: #E2EBFA;\n",
              "      box-shadow: 0px 1px 2px rgba(60, 64, 67, 0.3), 0px 1px 3px 1px rgba(60, 64, 67, 0.15);\n",
              "      fill: #174EA6;\n",
              "    }\n",
              "\n",
              "    .colab-df-buttons div {\n",
              "      margin-bottom: 4px;\n",
              "    }\n",
              "\n",
              "    [theme=dark] .colab-df-convert {\n",
              "      background-color: #3B4455;\n",
              "      fill: #D2E3FC;\n",
              "    }\n",
              "\n",
              "    [theme=dark] .colab-df-convert:hover {\n",
              "      background-color: #434B5C;\n",
              "      box-shadow: 0px 1px 3px 1px rgba(0, 0, 0, 0.15);\n",
              "      filter: drop-shadow(0px 1px 2px rgba(0, 0, 0, 0.3));\n",
              "      fill: #FFFFFF;\n",
              "    }\n",
              "  </style>\n",
              "\n",
              "    <script>\n",
              "      const buttonEl =\n",
              "        document.querySelector('#df-c16c117b-cc1d-4dd0-93bd-c9ce0c70695d button.colab-df-convert');\n",
              "      buttonEl.style.display =\n",
              "        google.colab.kernel.accessAllowed ? 'block' : 'none';\n",
              "\n",
              "      async function convertToInteractive(key) {\n",
              "        const element = document.querySelector('#df-c16c117b-cc1d-4dd0-93bd-c9ce0c70695d');\n",
              "        const dataTable =\n",
              "          await google.colab.kernel.invokeFunction('convertToInteractive',\n",
              "                                                    [key], {});\n",
              "        if (!dataTable) return;\n",
              "\n",
              "        const docLinkHtml = 'Like what you see? Visit the ' +\n",
              "          '<a target=\"_blank\" href=https://colab.research.google.com/notebooks/data_table.ipynb>data table notebook</a>'\n",
              "          + ' to learn more about interactive tables.';\n",
              "        element.innerHTML = '';\n",
              "        dataTable['output_type'] = 'display_data';\n",
              "        await google.colab.output.renderOutput(dataTable, element);\n",
              "        const docLink = document.createElement('div');\n",
              "        docLink.innerHTML = docLinkHtml;\n",
              "        element.appendChild(docLink);\n",
              "      }\n",
              "    </script>\n",
              "  </div>\n",
              "\n",
              "\n",
              "    <div id=\"df-6eda3114-ebbe-479b-aff4-5b5e4a513604\">\n",
              "      <button class=\"colab-df-quickchart\" onclick=\"quickchart('df-6eda3114-ebbe-479b-aff4-5b5e4a513604')\"\n",
              "                title=\"Suggest charts\"\n",
              "                style=\"display:none;\">\n",
              "\n",
              "<svg xmlns=\"http://www.w3.org/2000/svg\" height=\"24px\"viewBox=\"0 0 24 24\"\n",
              "     width=\"24px\">\n",
              "    <g>\n",
              "        <path d=\"M19 3H5c-1.1 0-2 .9-2 2v14c0 1.1.9 2 2 2h14c1.1 0 2-.9 2-2V5c0-1.1-.9-2-2-2zM9 17H7v-7h2v7zm4 0h-2V7h2v10zm4 0h-2v-4h2v4z\"/>\n",
              "    </g>\n",
              "</svg>\n",
              "      </button>\n",
              "\n",
              "<style>\n",
              "  .colab-df-quickchart {\n",
              "      --bg-color: #E8F0FE;\n",
              "      --fill-color: #1967D2;\n",
              "      --hover-bg-color: #E2EBFA;\n",
              "      --hover-fill-color: #174EA6;\n",
              "      --disabled-fill-color: #AAA;\n",
              "      --disabled-bg-color: #DDD;\n",
              "  }\n",
              "\n",
              "  [theme=dark] .colab-df-quickchart {\n",
              "      --bg-color: #3B4455;\n",
              "      --fill-color: #D2E3FC;\n",
              "      --hover-bg-color: #434B5C;\n",
              "      --hover-fill-color: #FFFFFF;\n",
              "      --disabled-bg-color: #3B4455;\n",
              "      --disabled-fill-color: #666;\n",
              "  }\n",
              "\n",
              "  .colab-df-quickchart {\n",
              "    background-color: var(--bg-color);\n",
              "    border: none;\n",
              "    border-radius: 50%;\n",
              "    cursor: pointer;\n",
              "    display: none;\n",
              "    fill: var(--fill-color);\n",
              "    height: 32px;\n",
              "    padding: 0;\n",
              "    width: 32px;\n",
              "  }\n",
              "\n",
              "  .colab-df-quickchart:hover {\n",
              "    background-color: var(--hover-bg-color);\n",
              "    box-shadow: 0 1px 2px rgba(60, 64, 67, 0.3), 0 1px 3px 1px rgba(60, 64, 67, 0.15);\n",
              "    fill: var(--button-hover-fill-color);\n",
              "  }\n",
              "\n",
              "  .colab-df-quickchart-complete:disabled,\n",
              "  .colab-df-quickchart-complete:disabled:hover {\n",
              "    background-color: var(--disabled-bg-color);\n",
              "    fill: var(--disabled-fill-color);\n",
              "    box-shadow: none;\n",
              "  }\n",
              "\n",
              "  .colab-df-spinner {\n",
              "    border: 2px solid var(--fill-color);\n",
              "    border-color: transparent;\n",
              "    border-bottom-color: var(--fill-color);\n",
              "    animation:\n",
              "      spin 1s steps(1) infinite;\n",
              "  }\n",
              "\n",
              "  @keyframes spin {\n",
              "    0% {\n",
              "      border-color: transparent;\n",
              "      border-bottom-color: var(--fill-color);\n",
              "      border-left-color: var(--fill-color);\n",
              "    }\n",
              "    20% {\n",
              "      border-color: transparent;\n",
              "      border-left-color: var(--fill-color);\n",
              "      border-top-color: var(--fill-color);\n",
              "    }\n",
              "    30% {\n",
              "      border-color: transparent;\n",
              "      border-left-color: var(--fill-color);\n",
              "      border-top-color: var(--fill-color);\n",
              "      border-right-color: var(--fill-color);\n",
              "    }\n",
              "    40% {\n",
              "      border-color: transparent;\n",
              "      border-right-color: var(--fill-color);\n",
              "      border-top-color: var(--fill-color);\n",
              "    }\n",
              "    60% {\n",
              "      border-color: transparent;\n",
              "      border-right-color: var(--fill-color);\n",
              "    }\n",
              "    80% {\n",
              "      border-color: transparent;\n",
              "      border-right-color: var(--fill-color);\n",
              "      border-bottom-color: var(--fill-color);\n",
              "    }\n",
              "    90% {\n",
              "      border-color: transparent;\n",
              "      border-bottom-color: var(--fill-color);\n",
              "    }\n",
              "  }\n",
              "</style>\n",
              "\n",
              "      <script>\n",
              "        async function quickchart(key) {\n",
              "          const quickchartButtonEl =\n",
              "            document.querySelector('#' + key + ' button');\n",
              "          quickchartButtonEl.disabled = true;  // To prevent multiple clicks.\n",
              "          quickchartButtonEl.classList.add('colab-df-spinner');\n",
              "          try {\n",
              "            const charts = await google.colab.kernel.invokeFunction(\n",
              "                'suggestCharts', [key], {});\n",
              "          } catch (error) {\n",
              "            console.error('Error during call to suggestCharts:', error);\n",
              "          }\n",
              "          quickchartButtonEl.classList.remove('colab-df-spinner');\n",
              "          quickchartButtonEl.classList.add('colab-df-quickchart-complete');\n",
              "        }\n",
              "        (() => {\n",
              "          let quickchartButtonEl =\n",
              "            document.querySelector('#df-6eda3114-ebbe-479b-aff4-5b5e4a513604 button');\n",
              "          quickchartButtonEl.style.display =\n",
              "            google.colab.kernel.accessAllowed ? 'block' : 'none';\n",
              "        })();\n",
              "      </script>\n",
              "    </div>\n",
              "\n",
              "    </div>\n",
              "  </div>\n"
            ],
            "application/vnd.google.colaboratory.intrinsic+json": {
              "type": "dataframe",
              "variable_name": "df"
            }
          },
          "metadata": {},
          "execution_count": 8
        }
      ]
    },
    {
      "cell_type": "code",
      "source": [
        "print(df['isFraud'].value_counts())\n",
        "print(df['isFraud'].value_counts(normalize=True))\n"
      ],
      "metadata": {
        "colab": {
          "base_uri": "https://localhost:8080/"
        },
        "id": "xr1s8-aZ4sor",
        "outputId": "e73678f1-f449-4fa3-b958-67e29f62d193"
      },
      "execution_count": null,
      "outputs": [
        {
          "output_type": "stream",
          "name": "stdout",
          "text": [
            "isFraud\n",
            "0    6354407\n",
            "1       8213\n",
            "Name: count, dtype: int64\n",
            "isFraud\n",
            "0    0.998709\n",
            "1    0.001291\n",
            "Name: proportion, dtype: float64\n"
          ]
        }
      ]
    },
    {
      "cell_type": "code",
      "source": [
        "class_counts = df['isFraud'].value_counts()\n",
        "plt.figure(figsize=(6,4))\n",
        "sns.barplot(x=class_counts.index, y=class_counts.values, palette='coolwarm')\n",
        "plt.xticks([0,1], ['Non-Fraud (0)', 'Fraud (1)'])\n",
        "plt.ylabel('Number of Transactions')\n",
        "plt.title('Fraud vs Non-Fraud Transaction Counts')\n",
        "for i, v in enumerate(class_counts.values):\n",
        "    plt.text(i, v + 50000, f\"{v:,}\", ha='center', fontweight='bold')\n",
        "plt.show()"
      ],
      "metadata": {
        "colab": {
          "base_uri": "https://localhost:8080/",
          "height": 517
        },
        "id": "nBkDDjfm4_Rv",
        "outputId": "0fed6bd3-cd17-426e-cb12-2648c95b3907"
      },
      "execution_count": null,
      "outputs": [
        {
          "output_type": "stream",
          "name": "stderr",
          "text": [
            "/tmp/ipython-input-2946908244.py:3: FutureWarning: \n",
            "\n",
            "Passing `palette` without assigning `hue` is deprecated and will be removed in v0.14.0. Assign the `x` variable to `hue` and set `legend=False` for the same effect.\n",
            "\n",
            "  sns.barplot(x=class_counts.index, y=class_counts.values, palette='coolwarm')\n"
          ]
        },
        {
          "output_type": "display_data",
          "data": {
            "text/plain": [
              "<Figure size 600x400 with 1 Axes>"
            ],
            "image/png": "[encoded data removed]"
          },
          "metadata": {}
        }
      ]
    },
    {
      "cell_type": "markdown",
      "source": [
        "Total transactions: 6,362,620\n",
        "\n",
        "Fraudulent transactions (isFraud = 1): 8,213 (~0.13%)\n",
        "\n",
        "Non-fraudulent transactions (isFraud = 0): 6,354,407 (~99.87%)"
      ],
      "metadata": {
        "id": "YkJfJjcw5Dsm"
      }
    },
    {
      "cell_type": "markdown",
      "source": [
        "The dataset is extremely imbalanced.\n",
        "\n",
        "Most transactions are legitimate, with only a tiny fraction being fraud.\n",
        "\n",
        "Implications for modeling:\n",
        "\n",
        "Accuracy alone is misleading — a model predicting all transactions as non-fraud would be 99.87% accurate but useless.\n",
        "\n",
        "Must use metrics focused on rare events, e.g., Precision, Recall, F1-score, or PR-AUC.\n",
        "\n",
        "May require class weighting or resampling techniques (SMOTE, undersampling, etc.) to handle imbalance."
      ],
      "metadata": {
        "id": "XytJvqmp5PNf"
      }
    },
    {
      "cell_type": "code",
      "source": [
        "# Save a raw sample of the dataset (e.g., 100,000 rows)\n",
        "sample_path = \"/content/drive/MyDrive/Fraud_raw_sample.csv\"\n",
        "df.sample(100000, random_state=42).to_csv(sample_path, index=False)\n",
        "\n",
        "print(f\"Raw sample saved at: {sample_path}\")\n"
      ],
      "metadata": {
        "colab": {
          "base_uri": "https://localhost:8080/"
        },
        "id": "hZqdkCmR5RGq",
        "outputId": "f53fe524-4888-4fbc-b99d-9eda4dff9a7f"
      },
      "execution_count": null,
      "outputs": [
        {
          "output_type": "stream",
          "name": "stdout",
          "text": [
            "Raw sample saved at: /content/drive/MyDrive/Fraud_raw_sample.csv\n"
          ]
        }
      ]
    },
    {
      "cell_type": "markdown",
      "source": [
        "**Starting EDA**"
      ],
      "metadata": {
        "id": "cOk8nUtp5l1h"
      }
    },
    {
      "cell_type": "code",
      "source": [
        "import matplotlib.pyplot as plt\n",
        "import seaborn as sns\n",
        "\n",
        "plt.figure(figsize=(8,6))\n",
        "sns.countplot(x='isFraud', data=df, palette='coolwarm')\n",
        "plt.xticks([0,1], ['Non-Fraud (0)', 'Fraud (1)'], fontsize=12)\n",
        "plt.ylabel('Number of Transactions', fontsize=12)\n",
        "plt.title('Fraud vs Non-Fraud Distribution', fontsize=14, fontweight='bold')\n",
        "\n",
        "# Log scale on y-axis\n",
        "plt.yscale('log')\n",
        "\n",
        "# Add count labels on bars\n",
        "for p in plt.gca().patches:\n",
        "    plt.gca().annotate(f'{int(p.get_height())}',\n",
        "                       (p.get_x() + p.get_width() / 2., p.get_height()),\n",
        "                       ha='center', va='bottom', fontsize=11)\n",
        "\n",
        "plt.show()\n"
      ],
      "metadata": {
        "colab": {
          "base_uri": "https://localhost:8080/",
          "height": 676
        },
        "id": "pkli3v3j6Rsy",
        "outputId": "8f9bf552-f175-40f1-da46-f6d39aedaee0"
      },
      "execution_count": null,
      "outputs": [
        {
          "output_type": "stream",
          "name": "stderr",
          "text": [
            "/tmp/ipython-input-3998275012.py:5: FutureWarning: \n",
            "\n",
            "Passing `palette` without assigning `hue` is deprecated and will be removed in v0.14.0. Assign the `x` variable to `hue` and set `legend=False` for the same effect.\n",
            "\n",
            "  sns.countplot(x='isFraud', data=df, palette='coolwarm')\n"
          ]
        },
        {
          "output_type": "display_data",
          "data": {
            "text/plain": [
              "<Figure size 800x600 with 1 Axes>"
            ],
            "image/png": "[encoded data removed]"
          },
          "metadata": {}
        }
      ]
    },
    {
      "cell_type": "markdown",
      "source": [
        "Fraud vs Non-Fraud Distribution:\n",
        "Non-fraudulent transactions far outnumber fraudulent ones. The y-axis is scaled to clearly show both categories, highlighting the dataset’s imbalance for modeling purposes."
      ],
      "metadata": {
        "id": "1cFnXgS26gI1"
      }
    },
    {
      "cell_type": "code",
      "source": [
        "numeric_cols = ['step', 'amount', 'oldbalanceOrg', 'newbalanceOrig',\n",
        "                'oldbalanceDest', 'newbalanceDest']\n",
        "\n",
        "# Create a copy of the dataframe to scale\n",
        "df_scaled = df.copy()\n",
        "\n",
        "# Apply Min-Max scaling\n",
        "scaler = MinMaxScaler()\n",
        "df_scaled[numeric_cols] = scaler.fit_transform(df[numeric_cols])\n",
        "\n",
        "# Set pandas option to display floats nicely without scientific notation\n",
        "pd.options.display.float_format = '{:.4f}'.format  # 4 decimal places\n",
        "\n",
        "# Show descriptive statistics of scaled columns\n",
        "print(df_scaled[numeric_cols].describe())"
      ],
      "metadata": {
        "id": "W-s8JesG7J8g",
        "colab": {
          "base_uri": "https://localhost:8080/",
          "height": 211
        },
        "outputId": "bab61efa-daba-4a4b-ff30-3b25f641752b"
      },
      "execution_count": null,
      "outputs": [
        {
          "output_type": "error",
          "ename": "NameError",
          "evalue": "name 'MinMaxScaler' is not defined",
          "traceback": [
            "\u001b[0;31m---------------------------------------------------------------------------\u001b[0m",
            "\u001b[0;31mNameError\u001b[0m                                 Traceback (most recent call last)",
            "\u001b[0;32m/tmp/ipython-input-2019044441.py\u001b[0m in \u001b[0;36m<cell line: 0>\u001b[0;34m()\u001b[0m\n\u001b[1;32m      6\u001b[0m \u001b[0;34m\u001b[0m\u001b[0m\n\u001b[1;32m      7\u001b[0m \u001b[0;31m# Apply Min-Max scaling\u001b[0m\u001b[0;34m\u001b[0m\u001b[0;34m\u001b[0m\u001b[0m\n\u001b[0;32m----> 8\u001b[0;31m \u001b[0mscaler\u001b[0m \u001b[0;34m=\u001b[0m \u001b[0mMinMaxScaler\u001b[0m\u001b[0;34m(\u001b[0m\u001b[0;34m)\u001b[0m\u001b[0;34m\u001b[0m\u001b[0;34m\u001b[0m\u001b[0m\n\u001b[0m\u001b[1;32m      9\u001b[0m \u001b[0mdf_scaled\u001b[0m\u001b[0;34m[\u001b[0m\u001b[0mnumeric_cols\u001b[0m\u001b[0;34m]\u001b[0m \u001b[0;34m=\u001b[0m \u001b[0mscaler\u001b[0m\u001b[0;34m.\u001b[0m\u001b[0mfit_transform\u001b[0m\u001b[0;34m(\u001b[0m\u001b[0mdf\u001b[0m\u001b[0;34m[\u001b[0m\u001b[0mnumeric_cols\u001b[0m\u001b[0;34m]\u001b[0m\u001b[0;34m)\u001b[0m\u001b[0;34m\u001b[0m\u001b[0;34m\u001b[0m\u001b[0m\n\u001b[1;32m     10\u001b[0m \u001b[0;34m\u001b[0m\u001b[0m\n",
            "\u001b[0;31mNameError\u001b[0m: name 'MinMaxScaler' is not defined"
          ]
        }
      ]
    },
    {
      "cell_type": "markdown",
      "source": [
        "**Transaction Step (step)**"
      ],
      "metadata": {
        "id": "gUQ41Xkf9NJZ"
      }
    },
    {
      "cell_type": "markdown",
      "source": [
        "Mean: 0.3267 → On average, transactions occur early in the normalized timeline.\n",
        "\n",
        "Spread: Std = 0.1918 → Moderate variation.\n",
        "\n",
        "Insight: Transactions are somewhat evenly distributed over the time period but slightly concentrated in earlier steps."
      ],
      "metadata": {
        "id": "GDE7y7Jx9TbO"
      }
    },
    {
      "cell_type": "markdown",
      "source": [
        "**Transaction Amount (amount)**"
      ],
      "metadata": {
        "id": "N_qXZ7ks9eQZ"
      }
    },
    {
      "cell_type": "markdown",
      "source": [
        "There are a few extremely large transactions (potentially suspicious).\n",
        "\n",
        "Insight: The amount distribution is highly skewed; large amounts are rare and could be flagged for fraud."
      ],
      "metadata": {
        "id": "iK4i84sq9gVx"
      }
    },
    {
      "cell_type": "markdown",
      "source": [
        "**Origin Account Balance**"
      ],
      "metadata": {
        "id": "l7-957Eu9jR3"
      }
    },
    {
      "cell_type": "markdown",
      "source": [
        "Most accounts have small balances in scaled terms.\n",
        "Over half of transactions involve accounts with very low balances.\n",
        "Large outgoing transactions from accounts with small balances could indicate fraudulent activity."
      ],
      "metadata": {
        "id": "-9kJCrWT9yfA"
      }
    },
    {
      "cell_type": "markdown",
      "source": [
        "**Destination Account Balance**"
      ],
      "metadata": {
        "id": "pp3KYTxe96mV"
      }
    },
    {
      "cell_type": "markdown",
      "source": [
        "Most destination accounts also have very small balances.Many destination accounts start empty.Transfers to empty or low-balance accounts are common; unusually large incoming balances could indicate money laundering or fraud."
      ],
      "metadata": {
        "id": "SioVby3D-BfW"
      }
    },
    {
      "cell_type": "markdown",
      "source": [
        "amount and balances are key indicators for fraud detection.\n",
        "\n",
        "step can help identify temporal patterns (fraud may happen at specific times)."
      ],
      "metadata": {
        "id": "_Rklzp8K-KCj"
      }
    },
    {
      "cell_type": "code",
      "source": [
        "plt.figure(figsize=(10,4))\n",
        "sns.histplot(df['amount'], bins=50, log_scale=True)\n",
        "plt.title('Transaction Amount Distribution (Log Scale)')\n",
        "plt.show()\n"
      ],
      "metadata": {
        "id": "mRcxuoDL-b_Y"
      },
      "execution_count": null,
      "outputs": []
    },
    {
      "cell_type": "markdown",
      "source": [
        "The histogram of transaction amounts, even on a log scale, shows that the distribution is heavily skewed to the right. This means that most transactions are of smaller amounts, while there are a few transactions with very large amounts. This is typical for financial transaction data, where high-value transactions are much less frequent than low-value ones."
      ],
      "metadata": {
        "id": "he7jlsz-_IqR"
      }
    },
    {
      "cell_type": "code",
      "source": [
        "plt.figure(figsize=(12,5))\n",
        "sns.boxplot(x='amount', data=df)\n",
        "plt.title('Boxplot of Transaction Amounts')\n",
        "plt.show()\n"
      ],
      "metadata": {
        "id": "xZdMZrzR_Th4"
      },
      "execution_count": null,
      "outputs": []
    },
    {
      "cell_type": "markdown",
      "source": [
        "The boxplot shows that most transactions are for small amounts. There are a lot of transactions that are much, much larger than the rest – these are the dots scattered far to the right."
      ],
      "metadata": {
        "id": "atEM5SFf_rRH"
      }
    },
    {
      "cell_type": "code",
      "source": [
        "df['type'].value_counts()\n"
      ],
      "metadata": {
        "id": "gM9LPz5Z_shP"
      },
      "execution_count": null,
      "outputs": []
    },
    {
      "cell_type": "code",
      "source": [
        "type_counts = df['type'].value_counts().sort_values(ascending=False)\n",
        "\n",
        "# Plot\n",
        "plt.figure(figsize=(8,5))\n",
        "sns.barplot(x=type_counts.index, y=type_counts.values, palette='coolwarm')\n",
        "\n",
        "# Highlight high-risk types\n",
        "for i, t in enumerate(type_counts.index):\n",
        "    if t in ['TRANSFER', 'DEBIT']:\n",
        "        plt.gca().patches[i].set_edgecolor('black')\n",
        "        plt.gca().patches[i].set_linewidth(2)\n",
        "\n",
        "# Labels and title\n",
        "plt.ylabel('Number of Transactions', fontsize=12)\n",
        "plt.xlabel('Transaction Type', fontsize=12)\n",
        "plt.title('Transaction Type Distribution (High-Risk Types Highlighted)', fontsize=14, fontweight='bold')\n",
        "plt.xticks(rotation=45)\n",
        "plt.show()"
      ],
      "metadata": {
        "id": "P_bkdXkCD9fV"
      },
      "execution_count": null,
      "outputs": []
    },
    {
      "cell_type": "code",
      "source": [
        "plt.figure(figsize=(10,8))\n",
        "sns.heatmap(df[numeric_cols + ['isFraud']].corr(), annot=True, fmt=\".2f\", cmap='coolwarm')\n",
        "plt.title('Correlation Heatmap')\n",
        "plt.show()\n"
      ],
      "metadata": {
        "id": "ofJmFX-bEEtI"
      },
      "execution_count": null,
      "outputs": []
    },
    {
      "cell_type": "markdown",
      "source": [
        "**Data Cleaning & Preprocessing**"
      ],
      "metadata": {
        "id": "3Ij_C3QeFqaQ"
      }
    },
    {
      "cell_type": "markdown",
      "source": [
        "Finding null  values"
      ],
      "metadata": {
        "id": "Kp6iRADUG4rO"
      }
    },
    {
      "cell_type": "code",
      "source": [
        "missing = df.isnull().sum().to_frame(name='count')\n",
        "missing['percent'] = missing['count'] / len(df) * 100\n",
        "print(missing)\n"
      ],
      "metadata": {
        "id": "x49MA2VvG9dQ"
      },
      "execution_count": null,
      "outputs": []
    },
    {
      "cell_type": "markdown",
      "source": [
        "No missing values yay!!"
      ],
      "metadata": {
        "id": "QZXlfBAVHuYH"
      }
    },
    {
      "cell_type": "code",
      "source": [
        "df.drop_duplicates(inplace=True)\n"
      ],
      "metadata": {
        "id": "JUmsBbYCHzxi"
      },
      "execution_count": null,
      "outputs": []
    },
    {
      "cell_type": "markdown",
      "source": [
        "the above code removes duplicates"
      ],
      "metadata": {
        "id": "xMJ4i94CIOXV"
      }
    },
    {
      "cell_type": "markdown",
      "source": [
        "**Fix data types**"
      ],
      "metadata": {
        "id": "2a5BszSsIV6e"
      }
    },
    {
      "cell_type": "code",
      "source": [
        "df['type'] = df['type'].astype('category')\n"
      ],
      "metadata": {
        "id": "uzU-OKi2IciW"
      },
      "execution_count": null,
      "outputs": []
    },
    {
      "cell_type": "markdown",
      "source": [
        "outlier **Handling**"
      ],
      "metadata": {
        "id": "MbNwVWF0If_2"
      }
    },
    {
      "cell_type": "markdown",
      "source": [
        "to handle outliers we will do simple capping"
      ],
      "metadata": {
        "id": "PuHijCHOI6rf"
      }
    },
    {
      "cell_type": "code",
      "source": [
        "# List of numeric columns to cap\n",
        "numeric_cols = ['amount', 'oldbalanceOrg', 'newbalanceOrig', 'oldbalanceDest', 'newbalanceDest']\n",
        "\n",
        "for col in numeric_cols:\n",
        "    # Compute 1st and 99th percentiles\n",
        "    lower = df[col].quantile(0.01)\n",
        "    upper = df[col].quantile(0.99)\n",
        "\n",
        "    # Apply capping\n",
        "    df[col + '_capped'] = df[col].clip(lower=lower, upper=upper)\n",
        "\n",
        "    print(f\"{col} capped: min={df[col + '_capped'].min()}, max={df[col + '_capped'].max()}\")\n"
      ],
      "metadata": {
        "colab": {
          "base_uri": "https://localhost:8080/"
        },
        "id": "Z-9E_mlkJB9m",
        "outputId": "a8b49835-d38c-4792-ca52-9b66c6a51a33"
      },
      "execution_count": null,
      "outputs": [
        {
          "output_type": "stream",
          "name": "stdout",
          "text": [
            "amount capped: min=449.46760000000006, max=1615979.4715999917\n",
            "oldbalanceOrg capped: min=0.0, max=16027256.133699985\n",
            "newbalanceOrig capped: min=0.0, max=16176160.557999993\n",
            "oldbalanceDest capped: min=0.0, max=12371819.154799988\n",
            "newbalanceDest capped: min=0.0, max=13137866.940999895\n"
          ]
        }
      ]
    },
    {
      "cell_type": "markdown",
      "source": [],
      "metadata": {
        "id": "lJKvnHDuJen2"
      }
    },
    {
      "cell_type": "markdown",
      "source": [
        "**Feature Engineering**\n",
        "Create new features that capture signals of fraud."
      ],
      "metadata": {
        "id": "3wU-pB1xJUxe"
      }
    },
    {
      "cell_type": "markdown",
      "source": [
        "*Log-transform for skewed amounts* helps to normalise values"
      ],
      "metadata": {
        "id": "S-6Wbe7kJ6ZL"
      }
    },
    {
      "cell_type": "code",
      "source": [
        "df['log_amount'] = np.log1p(df['amount_capped'])\n"
      ],
      "metadata": {
        "id": "IyhiE6QqJ82k"
      },
      "execution_count": null,
      "outputs": []
    },
    {
      "cell_type": "markdown",
      "source": [
        "Extract time-based features from step"
      ],
      "metadata": {
        "id": "zwVGjbzFKWbm"
      }
    },
    {
      "cell_type": "code",
      "source": [
        "df['hour'] = df['step'] % 24\n",
        "df['day_of_week'] = (df['step'] // 24) % 7\n"
      ],
      "metadata": {
        "id": "NsCC2dOsKdjA"
      },
      "execution_count": null,
      "outputs": []
    },
    {
      "cell_type": "code",
      "source": [
        "# Filter only fraud transactions\n",
        "fraud_df = df[df['isFraud'] == 1]\n",
        "\n",
        "# Fraud by hour\n",
        "plt.figure(figsize=(12,5))\n",
        "sns.countplot(x='hour', data=fraud_df, palette='Reds_r')\n",
        "plt.title('Fraud Transactions by Hour of the Day', fontsize=14, fontweight='bold')\n",
        "plt.xlabel('Hour of Day')\n",
        "plt.ylabel('Number of Fraud Transactions')\n",
        "plt.show()\n",
        "\n",
        "# Fraud by day of the week\n",
        "plt.figure(figsize=(12,5))\n",
        "sns.countplot(x='day_of_week', data=fraud_df, palette='Reds_r')\n",
        "plt.title('Fraud Transactions by Day of the Week', fontsize=14, fontweight='bold')\n",
        "plt.xlabel('Day of Week (0=Monday)')\n",
        "plt.ylabel('Number of Fraud Transactions')\n",
        "plt.show()"
      ],
      "metadata": {
        "colab": {
          "base_uri": "https://localhost:8080/",
          "height": 1000
        },
        "id": "eumdNp3DLoHg",
        "outputId": "0f6490f1-616f-4c2e-9440-08c847219098"
      },
      "execution_count": null,
      "outputs": [
        {
          "output_type": "stream",
          "name": "stderr",
          "text": [
            "/tmp/ipython-input-589578966.py:6: FutureWarning: \n",
            "\n",
            "Passing `palette` without assigning `hue` is deprecated and will be removed in v0.14.0. Assign the `x` variable to `hue` and set `legend=False` for the same effect.\n",
            "\n",
            "  sns.countplot(x='hour', data=fraud_df, palette='Reds_r')\n"
          ]
        },
        {
          "output_type": "display_data",
          "data": {
            "text/plain": [
              "<Figure size 1200x500 with 1 Axes>"
            ],
            "image/png": "[encoded data removed]"
          },
          "metadata": {}
        },
        {
          "output_type": "stream",
          "name": "stderr",
          "text": [
            "/tmp/ipython-input-589578966.py:14: FutureWarning: \n",
            "\n",
            "Passing `palette` without assigning `hue` is deprecated and will be removed in v0.14.0. Assign the `x` variable to `hue` and set `legend=False` for the same effect.\n",
            "\n",
            "  sns.countplot(x='day_of_week', data=fraud_df, palette='Reds_r')\n"
          ]
        },
        {
          "output_type": "display_data",
          "data": {
            "text/plain": [
              "<Figure size 1200x500 with 1 Axes>"
            ],
            "image/png": "[encoded data removed]"
          },
          "metadata": {}
        }
      ]
    },
    {
      "cell_type": "markdown",
      "source": [
        "What this does:\n",
        "\n",
        "By hour: Shows which hours of the day have more fraud. You might see spikes at night or early morning.\n",
        "\n",
        "By day: Shows which days of the week have more fraud, which can highlight weekly patterns."
      ],
      "metadata": {
        "id": "2TQ1_uQZK1Yr"
      }
    },
    {
      "cell_type": "markdown",
      "source": [
        "By Hour: Fraud happens throughout the day, but there are slight bumps in the morning and early afternoon hours.\n",
        "\n",
        " By Day: Fraud is more common earlier in the week (Monday to Wednesday) and less so towards the weekend."
      ],
      "metadata": {
        "id": "9YnfvkLhLy9o"
      }
    },
    {
      "cell_type": "markdown",
      "source": [
        "**Balance differences**"
      ],
      "metadata": {
        "id": "-JDvvuN6MuPn"
      }
    },
    {
      "cell_type": "code",
      "source": [
        "df['diff_old_new_orig'] = df['oldbalanceOrg'] - df['newbalanceOrig']\n",
        "df['diff_old_new_dest'] = df['newbalanceDest'] - df['oldbalanceDest']\n"
      ],
      "metadata": {
        "id": "tDewUXY9Mv5_"
      },
      "execution_count": null,
      "outputs": []
    },
    {
      "cell_type": "markdown",
      "source": [
        "**Convert categorical type to numeric:**"
      ],
      "metadata": {
        "id": "m1bWV3PvM1cT"
      }
    },
    {
      "cell_type": "code",
      "source": [
        "# Frequency encoding\n",
        "type_freq = df['type'].value_counts(normalize=True)\n",
        "df['type_freq'] = df['type'].map(type_freq)\n"
      ],
      "metadata": {
        "id": "4-o8vwxUM89a"
      },
      "execution_count": null,
      "outputs": []
    },
    {
      "cell_type": "markdown",
      "source": [
        "txn_count_last_24h = number of transactions the origin account made in the last 24 hours\n"
      ],
      "metadata": {
        "id": "0vTCHBViOi1F"
      }
    },
    {
      "cell_type": "code",
      "source": [
        "df = df.sort_values(['nameOrig','step'])\n",
        "df['txn_count_last_24h'] = df.groupby('nameOrig')['step'].rolling(24, min_periods=1).count().reset_index(0,drop=True)\n"
      ],
      "metadata": {
        "id": "7WjVhpcmOoLt"
      },
      "execution_count": null,
      "outputs": []
    },
    {
      "cell_type": "code",
      "source": [
        "df['amount_type_interaction'] = df['log_amount'] * df['type_freq'].astype(float)\n"
      ],
      "metadata": {
        "id": "9tu0Nh87PPug"
      },
      "execution_count": null,
      "outputs": []
    },
    {
      "cell_type": "markdown",
      "source": [
        "**Train/Validation Splitting & Sampling Strategy**"
      ],
      "metadata": {
        "id": "31RU8OSBRBz2"
      }
    },
    {
      "cell_type": "code",
      "source": [
        "from sklearn.model_selection import train_test_split\n",
        "train_df, test_df = train_test_split(df, test_size=0.2, stratify=df['isFraud'], random_state=42)\n",
        "train_df, val_df = train_test_split(train_df, test_size=0.25, stratify=train_df['isFraud'], random_state=42)"
      ],
      "metadata": {
        "id": "bCoAvd5NRDeY"
      },
      "execution_count": null,
      "outputs": []
    },
    {
      "cell_type": "code",
      "source": [
        "print(\"Train shape:\", train_df.shape)\n",
        "print(\"Validation shape:\", val_df.shape)\n",
        "print(\"Test shape:\", test_df.shape)"
      ],
      "metadata": {
        "colab": {
          "base_uri": "https://localhost:8080/"
        },
        "id": "NB189FayRfxt",
        "outputId": "e9a10e61-95c3-4a44-a25b-4ba9be93985c"
      },
      "execution_count": null,
      "outputs": [
        {
          "output_type": "stream",
          "name": "stdout",
          "text": [
            "Train shape: (3817572, 24)\n",
            "Validation shape: (1272524, 24)\n",
            "Test shape: (1272524, 24)\n"
          ]
        }
      ]
    },
    {
      "cell_type": "markdown",
      "source": [
        "That code prints the fraud vs non-fraud percentage in Train, Validation, and Test sets to confirm that the class ratios are preserved after splitting."
      ],
      "metadata": {
        "id": "zhEVASmtRlLq"
      }
    },
    {
      "cell_type": "code",
      "source": [
        "for split, data in zip(['Train','Val','Test'], [train_df, val_df, test_df]):\n",
        "    print(split)\n",
        "    print(data['isFraud'].value_counts(normalize=True))\n"
      ],
      "metadata": {
        "colab": {
          "base_uri": "https://localhost:8080/"
        },
        "id": "gPIcr9xpRzcz",
        "outputId": "b448a82a-ef4b-49b0-ed9b-3ad3f510494e"
      },
      "execution_count": null,
      "outputs": [
        {
          "output_type": "stream",
          "name": "stdout",
          "text": [
            "Train\n",
            "isFraud\n",
            "0    0.998709\n",
            "1    0.001291\n",
            "Name: proportion, dtype: float64\n",
            "Val\n",
            "isFraud\n",
            "0    0.99871\n",
            "1    0.00129\n",
            "Name: proportion, dtype: float64\n",
            "Test\n",
            "isFraud\n",
            "0    0.998709\n",
            "1    0.001291\n",
            "Name: proportion, dtype: float64\n"
          ]
        }
      ]
    },
    {
      "cell_type": "markdown",
      "source": [
        "**We need to separate input features (X) and output label (y) for train, validation, test**"
      ],
      "metadata": {
        "id": "JwWz6tYPSHep"
      }
    },
    {
      "cell_type": "code",
      "source": [
        "# Train split\n",
        "X_train = train_df.drop(\"isFraud\", axis=1)\n",
        "y_train = train_df[\"isFraud\"]\n",
        "\n",
        "# Validation split\n",
        "X_val = val_df.drop(\"isFraud\", axis=1)\n",
        "y_val = val_df[\"isFraud\"]\n",
        "\n",
        "# Test split\n",
        "X_test = test_df.drop(\"isFraud\", axis=1)\n",
        "y_test = test_df[\"isFraud\"]\n"
      ],
      "metadata": {
        "id": "DkqXZ9hlSbxm"
      },
      "execution_count": null,
      "outputs": []
    },
    {
      "cell_type": "markdown",
      "source": [
        "Handle Categorical Columns\n",
        "\n",
        "👉 Models like Logistic Regression need numbers only.\n",
        "We must encode categorical features like type, nameOrig, nameDest."
      ],
      "metadata": {
        "id": "10_ZEq1NStwZ"
      }
    },
    {
      "cell_type": "code",
      "source": [
        "# Drop high-cardinality columns\n",
        "X_train = X_train.drop([\"nameOrig\", \"nameDest\"], axis=1)\n",
        "X_val = X_val.drop([\"nameOrig\", \"nameDest\"], axis=1)\n",
        "X_test = X_test.drop([\"nameOrig\", \"nameDest\"], axis=1)\n",
        "\n",
        "# One-hot encode 'type'\n",
        "X_train = pd.get_dummies(X_train, columns=[\"type\"])\n",
        "X_val = pd.get_dummies(X_val, columns=[\"type\"])\n",
        "X_test = pd.get_dummies(X_test, columns=[\"type\"])\n",
        "\n",
        "# Align columns (important so train/val/test have same structure)\n",
        "X_val = X_val.reindex(columns=X_train.columns, fill_value=0)\n",
        "X_test = X_test.reindex(columns=X_train.columns, fill_value=0)\n"
      ],
      "metadata": {
        "id": "SAX0i4Y4Swbm"
      },
      "execution_count": null,
      "outputs": []
    },
    {
      "cell_type": "markdown",
      "source": [
        "training the model"
      ],
      "metadata": {
        "id": "ymrahJxFSzC9"
      }
    },
    {
      "cell_type": "code",
      "source": [
        "from sklearn.pipeline import Pipeline\n",
        "from sklearn.preprocessing import StandardScaler\n",
        "from sklearn.linear_model import LogisticRegression\n",
        "from sklearn.metrics import classification_report, confusion_matrix\n",
        "\n",
        "# Build pipeline: scaling + logistic regression\n",
        "log_reg_pipeline = Pipeline([\n",
        "    ('scaler', StandardScaler()),   # step 1: scale features\n",
        "    ('log_reg', LogisticRegression(\n",
        "        class_weight='balanced',    # handle imbalance\n",
        "        max_iter=2000,              # large enough to converge\n",
        "        solver='lbfgs',             # good default for large datasets\n",
        "        n_jobs=-1                   # use all CPU cores\n",
        "    ))\n",
        "])\n",
        "\n",
        "# Train on training set\n",
        "log_reg_pipeline.fit(X_train, y_train)\n",
        "\n",
        "# Validate on validation set\n",
        "y_val_pred = log_reg_pipeline.predict(X_val)\n",
        "\n",
        "# Evaluation\n",
        "print(\"Confusion Matrix:\\n\", confusion_matrix(y_val, y_val_pred))\n",
        "print(\"\\nClassification Report:\\n\", classification_report(y_val, y_val_pred))\n"
      ],
      "metadata": {
        "colab": {
          "base_uri": "https://localhost:8080/"
        },
        "id": "rRXGO-62gnOu",
        "outputId": "49795339-6a14-4743-d0a9-ede563056ef0"
      },
      "execution_count": null,
      "outputs": [
        {
          "output_type": "stream",
          "name": "stdout",
          "text": [
            "Confusion Matrix:\n",
            " [[1211594   59288]\n",
            " [     55    1587]]\n",
            "\n",
            "Classification Report:\n",
            "               precision    recall  f1-score   support\n",
            "\n",
            "           0       1.00      0.95      0.98   1270882\n",
            "           1       0.03      0.97      0.05      1642\n",
            "\n",
            "    accuracy                           0.95   1272524\n",
            "   macro avg       0.51      0.96      0.51   1272524\n",
            "weighted avg       1.00      0.95      0.97   1272524\n",
            "\n"
          ]
        }
      ]
    },
    {
      "cell_type": "markdown",
      "source": [
        "**Check ROC-AUC Score to see overall discrimination ability.**"
      ],
      "metadata": {
        "id": "0C_HobRbg91t"
      }
    },
    {
      "cell_type": "code",
      "source": [
        "from sklearn.metrics import roc_auc_score\n",
        "y_val_prob = log_reg_pipeline.predict_proba(X_val)[:,1]\n",
        "print(\"ROC-AUC Score:\", roc_auc_score(y_val, y_val_prob))\n"
      ],
      "metadata": {
        "colab": {
          "base_uri": "https://localhost:8080/"
        },
        "id": "gYLi2aBshAsV",
        "outputId": "d800f9ca-9496-4ab2-8eaf-5c2e3776fc49"
      },
      "execution_count": null,
      "outputs": [
        {
          "output_type": "stream",
          "name": "stdout",
          "text": [
            "ROC-AUC Score: 0.9937676407573246\n"
          ]
        }
      ]
    },
    {
      "cell_type": "code",
      "source": [
        "# Use the original training feature names\n",
        "feature_names = X_train.columns\n",
        "\n",
        "# Get coefficients from logistic regression\n",
        "coefs = log_reg_pipeline.named_steps['log_reg'].coef_[0]\n",
        "\n",
        "# Pair features with coefficients and sort by importance\n",
        "importance = sorted(zip(feature_names, coefs), key=lambda x: abs(x[1]), reverse=True)\n",
        "\n",
        "# Show top 15 important features\n",
        "print(\"Top 15 Important Features:\")\n",
        "for feature, coef in importance[:15]:\n",
        "    print(f\"{feature}: {coef:.4f}\")\n"
      ],
      "metadata": {
        "colab": {
          "base_uri": "https://localhost:8080/"
        },
        "id": "ed1O1KFIhWzm",
        "outputId": "814d7035-efe5-4f1e-ca02-7e4415ed42fa"
      },
      "execution_count": null,
      "outputs": [
        {
          "output_type": "stream",
          "name": "stdout",
          "text": [
            "Top 15 Important Features:\n",
            "newbalanceOrig: -103.2281\n",
            "oldbalanceOrg: 95.7560\n",
            "type_CASH_OUT: 93.0524\n",
            "type_CASH_IN: -71.2355\n",
            "type_PAYMENT: -61.8511\n",
            "type_TRANSFER: 54.5461\n",
            "amount: -13.5411\n",
            "type_DEBIT: -9.5443\n",
            "isFlaggedFraud: 0.5670\n",
            "oldbalanceDest: -0.5202\n",
            "newbalanceDest: 0.4602\n",
            "step: 0.3482\n"
          ]
        }
      ]
    },
    {
      "cell_type": "markdown",
      "source": [
        "What We Found From the Model\n",
        "\n",
        "How well the model works\n",
        "\n",
        "The model is very good at telling fraud apart from normal transactions (ROC-AUC ≈ 0.99).\n",
        "\n",
        "It catches almost all fraud cases (recall ≈ 97%).\n",
        "\n",
        "It sometimes raises false alarms (precision ≈ 3%), but that’s okay in fraud detection because missing a fraud is worse than checking a few extra cases.\n",
        "\n",
        "What matters most in detecting fraud\n",
        "\n",
        "Transaction Type:\n",
        "\n",
        "Fraud mostly happens in CASH_OUT and TRANSFER.\n",
        "\n",
        "Transactions like CASH_IN and PAYMENT are usually safe.\n",
        "\n",
        "Balances:\n",
        "\n",
        "If someone has a high starting balance (oldbalanceOrg) and suddenly takes out a lot, that’s a warning sign.\n",
        "\n",
        "Fraud cases often leave inconsistencies between old and new balances.\n",
        "\n",
        "Amount of Money:\n",
        "\n",
        "Large-value transactions are more likely to be fraud."
      ],
      "metadata": {
        "id": "fNB2BuhniQEh"
      }
    },
    {
      "cell_type": "markdown",
      "source": [
        "Our logistic regression model shows strong ability to detect fraud (ROC-AUC ≈ 0.99). It highlights that most fraud occurs in CASH_OUT and TRANSFER transactions, often involving unusual balance changes and high amounts. Based on these insights, the company should place stricter checks on high-value transactions, monitor abnormal balance behavior, and use the model as a decision-support tool for the fraud investigation team."
      ],
      "metadata": {
        "id": "1VSu5VxEiVUN"
      }
    }
  ],
  "metadata": {
    "colab": {
      "provenance": [],
      "authorship_tag": "ABX9TyMPWvMNB+/EOlJpKhiOuDre",
      "include_colab_link": true
    },
    "kernelspec": {
      "display_name": "Python 3",
      "name": "python3"
    },
    "language_info": {
      "name": "python"
    }
  },
  "nbformat": 4,
  "nbformat_minor": 0
}