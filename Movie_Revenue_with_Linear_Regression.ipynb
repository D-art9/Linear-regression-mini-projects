{
  "nbformat": 4,
  "nbformat_minor": 0,
  "metadata": {
    "colab": {
      "provenance": [],
      "authorship_tag": "ABX9TyM+oGleYu3DrPmOvYLV14U0",
      "include_colab_link": true
    },
    "kernelspec": {
      "name": "python3",
      "display_name": "Python 3"
    },
    "language_info": {
      "name": "python"
    }
  },
  "cells": [
    {
      "cell_type": "markdown",
      "metadata": {
        "id": "view-in-github",
        "colab_type": "text"
      },
      "source": [
        "<a href=\"https://colab.research.google.com/github/D-art9/Linear-regression-mini-projects/blob/main/Movie_Revenue_with_Linear_Regression.ipynb\" target=\"_parent\"><img src=\"https://colab.research.google.com/assets/colab-badge.svg\" alt=\"Open In Colab\"/></a>"
      ]
    },
    {
      "cell_type": "code",
      "execution_count": 1,
      "metadata": {
        "id": "hjoaOfi0HByh"
      },
      "outputs": [],
      "source": [
        "API_KEY = \"e8f17bbdae7c30ac355d5e9ea87ef7a8\"\n",
        "BASE_URL = \"https://api.themoviedb.org/3\"\n"
      ]
    },
    {
      "cell_type": "markdown",
      "source": [
        "Predict a movie’s rating (vote_average) using just its runtime (minutes) and budget (USD)."
      ],
      "metadata": {
        "id": "n3im5iNNHZHS"
      }
    },
    {
      "cell_type": "code",
      "source": [
        "import requests\n",
        "\n",
        "url = f\"{BASE_URL}/movie/popular?api_key={API_KEY}&language=en-US&page=1\"\n",
        "response = requests.get(url)\n",
        "data = response.json()\n",
        "\n",
        "# Extract movie IDs\n",
        "movie_ids = [movie[\"id\"] for movie in data[\"results\"]]\n",
        "print(movie_ids[:5])  # Show first 5 IDs\n"
      ],
      "metadata": {
        "colab": {
          "base_uri": "https://localhost:8080/"
        },
        "id": "JTLUd3QrHcas",
        "outputId": "56bceaff-c20d-425a-d488-61d120634b40"
      },
      "execution_count": 2,
      "outputs": [
        {
          "output_type": "stream",
          "name": "stdout",
          "text": [
            "[755898, 1061474, 1234821, 1241470, 1195631]\n"
          ]
        }
      ]
    },
    {
      "cell_type": "code",
      "source": [
        "movie_id = movie_ids[0]  # Take first movie\n",
        "url = f\"{BASE_URL}/movie/{movie_id}?api_key={API_KEY}&language=en-US\"\n",
        "response = requests.get(url)\n",
        "movie_details = response.json()\n",
        "\n",
        "print({\n",
        "    \"title\": movie_details[\"title\"],\n",
        "    \"budget\": movie_details[\"budget\"],\n",
        "    \"runtime\": movie_details[\"runtime\"],\n",
        "    \"rating\": movie_details[\"vote_average\"]\n",
        "})\n"
      ],
      "metadata": {
        "colab": {
          "base_uri": "https://localhost:8080/"
        },
        "id": "iru7NtUFIBTR",
        "outputId": "3886cfe1-aba1-40cd-f798-bce17f06275a"
      },
      "execution_count": 3,
      "outputs": [
        {
          "output_type": "stream",
          "name": "stdout",
          "text": [
            "{'title': 'War of the Worlds', 'budget': 65000000, 'runtime': 91, 'rating': 4.223}\n"
          ]
        }
      ]
    },
    {
      "cell_type": "code",
      "source": [
        "import pandas as pd\n",
        "\n",
        "movies_data = []\n",
        "\n",
        "# Loop through first 50 movie IDs\n",
        "for movie_id in movie_ids[:50]:\n",
        "    url = f\"{BASE_URL}/movie/{movie_id}?api_key={API_KEY}&language=en-US\"\n",
        "    response = requests.get(url)\n",
        "    details = response.json()\n",
        "\n",
        "    # Store only the fields we need\n",
        "    movies_data.append({\n",
        "        \"title\": details.get(\"title\"),\n",
        "        \"budget\": details.get(\"budget\"),\n",
        "        \"runtime\": details.get(\"runtime\"),\n",
        "        \"rating\": details.get(\"vote_average\"),\n",
        "        \"revenue\": details.get(\"revenue\")\n",
        "    })\n",
        "\n",
        "# Convert to DataFrame\n",
        "df = pd.DataFrame(movies_data)\n",
        "\n",
        "# Save to CSV\n",
        "df.to_csv(\"movies_dataset.csv\", index=False)\n",
        "\n",
        "print(df.head())\n"
      ],
      "metadata": {
        "colab": {
          "base_uri": "https://localhost:8080/"
        },
        "id": "IfI8HB0aIhDQ",
        "outputId": "13e1141c-1420-4d85-a9e4-f2f61681b7fd"
      },
      "execution_count": 4,
      "outputs": [
        {
          "output_type": "stream",
          "name": "stdout",
          "text": [
            "                    title     budget  runtime  rating    revenue\n",
            "0       War of the Worlds   65000000       91   4.223          0\n",
            "1                Superman  225000000      130   7.676  588068636\n",
            "2  Jurassic World Rebirth  180000000      134   6.370  810945902\n",
            "3                  Osiris          0      105   6.412          0\n",
            "4            William Tell          0      133   6.306     264637\n"
          ]
        }
      ]
    },
    {
      "cell_type": "code",
      "source": [
        "df = df.dropna()\n",
        "#helps to drop any empty values"
      ],
      "metadata": {
        "id": "R3E28hPzI2Ga"
      },
      "execution_count": 5,
      "outputs": []
    },
    {
      "cell_type": "code",
      "source": [
        "df = df[(df['budget'] > 0) & (df['runtime'] > 0)]\n",
        "#adds a dataframe filter to remove any values that are less than 0"
      ],
      "metadata": {
        "id": "-5r0hXSoI-GZ"
      },
      "execution_count": 6,
      "outputs": []
    },
    {
      "cell_type": "code",
      "source": [
        "df = df.drop_duplicates()\n"
      ],
      "metadata": {
        "id": "I6wlA48QJNZ7"
      },
      "execution_count": 7,
      "outputs": []
    },
    {
      "cell_type": "code",
      "source": [
        "print(df.shape)\n"
      ],
      "metadata": {
        "colab": {
          "base_uri": "https://localhost:8080/"
        },
        "id": "eOOIOBq3JQaw",
        "outputId": "b09aedb6-f562-4dce-d26f-d44f482ffb89"
      },
      "execution_count": 8,
      "outputs": [
        {
          "output_type": "stream",
          "name": "stdout",
          "text": [
            "(12, 5)\n"
          ]
        }
      ]
    },
    {
      "cell_type": "code",
      "source": [
        "print(df.head())\n"
      ],
      "metadata": {
        "colab": {
          "base_uri": "https://localhost:8080/"
        },
        "id": "oyJEl62QJWm_",
        "outputId": "6f3580d5-76bd-4420-b6be-93864aed0e93"
      },
      "execution_count": 9,
      "outputs": [
        {
          "output_type": "stream",
          "name": "stdout",
          "text": [
            "                                            title     budget  runtime  rating  \\\n",
            "0                               War of the Worlds   65000000       91   4.223   \n",
            "1                                        Superman  225000000      130   7.676   \n",
            "2                          Jurassic World Rebirth  180000000      134   6.370   \n",
            "6  Demon Slayer: Kimetsu no Yaiba Infinity Castle   68000000      155   7.196   \n",
            "8                        How to Train Your Dragon  150000000      125   8.024   \n",
            "\n",
            "     revenue  \n",
            "0          0  \n",
            "1  588068636  \n",
            "2  810945902  \n",
            "6  148000000  \n",
            "8  624430335  \n"
          ]
        }
      ]
    },
    {
      "cell_type": "markdown",
      "source": [
        "CLEANING THE DATASET\n"
      ],
      "metadata": {
        "id": "J-C7dgatKCHb"
      }
    },
    {
      "cell_type": "code",
      "source": [
        "df = df[(df['budget'] > 0) & (df['revenue'] > 0) & (df['runtime'] > 0)]\n"
      ],
      "metadata": {
        "id": "gqKLQ05qKGeI"
      },
      "execution_count": 10,
      "outputs": []
    },
    {
      "cell_type": "code",
      "source": [
        "df = df[df['budget'] < 500000000]\n",
        "df = df[df['runtime'] < 300]\n",
        "df = df[df['rating'] <= 10]\n",
        "#removing outliers"
      ],
      "metadata": {
        "id": "sKBOHsQ3Kjqp"
      },
      "execution_count": 11,
      "outputs": []
    },
    {
      "cell_type": "code",
      "source": [
        "print(df.info())\n"
      ],
      "metadata": {
        "colab": {
          "base_uri": "https://localhost:8080/"
        },
        "id": "Az95pg9mO7BE",
        "outputId": "dc83e820-4cd4-487f-acd3-71c9bc8e159d"
      },
      "execution_count": 12,
      "outputs": [
        {
          "output_type": "stream",
          "name": "stdout",
          "text": [
            "<class 'pandas.core.frame.DataFrame'>\n",
            "Index: 11 entries, 1 to 19\n",
            "Data columns (total 5 columns):\n",
            " #   Column   Non-Null Count  Dtype  \n",
            "---  ------   --------------  -----  \n",
            " 0   title    11 non-null     object \n",
            " 1   budget   11 non-null     int64  \n",
            " 2   runtime  11 non-null     int64  \n",
            " 3   rating   11 non-null     float64\n",
            " 4   revenue  11 non-null     int64  \n",
            "dtypes: float64(1), int64(3), object(1)\n",
            "memory usage: 528.0+ bytes\n",
            "None\n"
          ]
        }
      ]
    },
    {
      "cell_type": "code",
      "source": [
        "df[\"budget\"] = df[\"budget\"].astype(float)\n",
        "df[\"revenue\"] = df[\"revenue\"].astype(float)\n"
      ],
      "metadata": {
        "id": "PWXAJt5iPI08"
      },
      "execution_count": 13,
      "outputs": []
    },
    {
      "cell_type": "markdown",
      "source": [
        "NORMALISING THE VALUES"
      ],
      "metadata": {
        "id": "oRIUnCEEPtVu"
      }
    },
    {
      "cell_type": "code",
      "source": [
        "from sklearn.preprocessing import StandardScaler\n",
        "numeric_cols = [\"budget\", \"runtime\", \"rating\", \"revenue\"]\n",
        "scaler = StandardScaler()\n",
        "df[numeric_cols] = scaler.fit_transform(df[numeric_cols])"
      ],
      "metadata": {
        "id": "oCKKhWfXPxSY"
      },
      "execution_count": 15,
      "outputs": []
    },
    {
      "cell_type": "code",
      "source": [
        "import seaborn as sns\n",
        "import matplotlib.pyplot as plt\n",
        "\n",
        "# Compute correlation matrix (numeric columns only)\n",
        "corr = df.corr(numeric_only=True)\n",
        "\n",
        "# Plot heatmap\n",
        "plt.figure(figsize=(8,6))\n",
        "sns.heatmap(corr, annot=True, cmap=\"coolwarm\", linewidths=0.5)\n",
        "plt.title(\"Correlation Heatmap of Movie Features\", fontsize=14)\n",
        "plt.show()\n"
      ],
      "metadata": {
        "colab": {
          "base_uri": "https://localhost:8080/",
          "height": 546
        },
        "id": "j6ZWTbIjQIp1",
        "outputId": "bb0503f4-2793-4f26-b4a2-e2069188370f"
      },
      "execution_count": 16,
      "outputs": [
        {
          "output_type": "display_data",
          "data": {
            "text/plain": [
              "<Figure size 800x600 with 2 Axes>"
            ],
            "image/png": "[encoded data removed]"
          },
          "metadata": {}
        }
      ]
    },
    {
      "cell_type": "code",
      "source": [
        "import pandas as pd\n",
        "from sklearn.model_selection import train_test_split\n",
        "from sklearn.linear_model import LinearRegression\n"
      ],
      "metadata": {
        "id": "3BQmujX0Qv5N"
      },
      "execution_count": 18,
      "outputs": []
    },
    {
      "cell_type": "code",
      "source": [
        "df = pd.read_csv(\"movies_dataset.csv\")"
      ],
      "metadata": {
        "id": "mm5zia1wQ00m"
      },
      "execution_count": 19,
      "outputs": []
    },
    {
      "cell_type": "code",
      "source": [
        "X = df[['budget', 'runtime', 'rating']]   # input features\n",
        "y = df['revenue']                         # target (what we want to predict)"
      ],
      "metadata": {
        "id": "0TyR7MtqQ4UU"
      },
      "execution_count": 20,
      "outputs": []
    },
    {
      "cell_type": "code",
      "source": [
        "X_train, X_test, y_train, y_test = train_test_split(X, y, test_size=0.2, random_state=42)"
      ],
      "metadata": {
        "id": "rTCg1BDKQ7d8"
      },
      "execution_count": 21,
      "outputs": []
    },
    {
      "cell_type": "code",
      "source": [
        "model = LinearRegression()\n",
        "model.fit(X_train, y_train)\n",
        "\n",
        "# Make predictions on test data\n",
        "y_pred = model.predict(X_test)"
      ],
      "metadata": {
        "id": "Pw0yIbqiQ_hP"
      },
      "execution_count": 22,
      "outputs": []
    },
    {
      "cell_type": "code",
      "source": [
        "example = pd.DataFrame(\n",
        "    [[100000000, 120, 7.5]],\n",
        "    columns=['budget', 'runtime', 'rating']\n",
        ")\n",
        "predicted_revenue = model.predict(example)\n",
        "print(\"\\nPredicted Revenue for Example Movie:\", predicted_revenue[0])"
      ],
      "metadata": {
        "colab": {
          "base_uri": "https://localhost:8080/"
        },
        "id": "2T9a-Y9PREau",
        "outputId": "2b79194c-6321-4ae3-a6b1-501da8dcada4"
      },
      "execution_count": 24,
      "outputs": [
        {
          "output_type": "stream",
          "name": "stdout",
          "text": [
            "\n",
            "Predicted Revenue for Example Movie: 406858781.7028286\n"
          ]
        }
      ]
    }
  ]
}